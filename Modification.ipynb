{
 "cells": [
  {
   "cell_type": "code",
   "execution_count": 1,
   "metadata": {},
   "outputs": [],
   "source": [
    "import numpy as np\n",
    "import random"
   ]
  },
  {
   "cell_type": "code",
   "execution_count": 9,
   "metadata": {},
   "outputs": [],
   "source": [
    "def make_key_pub(G,F,n,k,l):   \n",
    "    A = random_matrix(F, l, k-l)\n",
    "    I_l = identity_matrix(F,l)\n",
    "    E = zero_matrix(F, l, n)\n",
    "    d = vector(F, n) \n",
    "    for i in range(W):\n",
    "        ind = random.randint(0, n - 1)\n",
    "        d[ind] = 1\n",
    "    for i in range(l):\n",
    "        for j in range(n):\n",
    "            if d[j] == 1:\n",
    "                E[i, j] = F.random_element()\n",
    "    \n",
    "    P = A.augment(I_l)*G\n",
    "    E_pub = P + E\n",
    "    return E_pub, A, E"
   ]
  },
  {
   "cell_type": "code",
   "execution_count": 10,
   "metadata": {},
   "outputs": [],
   "source": [
    "def encryption(m,G,E_pub,n,l):\n",
    "    e = zero_matrix(F,1,n)\n",
    "    for i in range(w):\n",
    "        ind = random.randint(0,n-1)\n",
    "        e[0,ind] = 1\n",
    "    alpha = random_matrix(F,1,l)\n",
    "    y = m*G + alpha*E_pub + e\n",
    "    return y, alpha"
   ]
  },
  {
   "cell_type": "code",
   "execution_count": 11,
   "metadata": {},
   "outputs": [],
   "source": [
    "def welsh_berlekamp(y_new, G_new, n, k, l):\n",
    "    n1 = G_new.ncols()\n",
    "    k1 = G_new.nrows()\n",
    "    d = n1 - k1 + 1\n",
    "    deg_N = k1 - 1 + (d-1) // 2\n",
    "    deg_L = (d-1) // 2\n",
    "    a_ = matrix(F, 1, n1)    # новый вектор a', в котором элементы совпадают со второй строчкой матрицы G'\n",
    "    for i in range(n1):\n",
    "        a_[0,i] = G_new[1,i]\n",
    "    N = zero_matrix(F, n1, deg_N+1)                \n",
    "    for i in range(n1):\n",
    "        for j in range(deg_N+1):\n",
    "            N[i,j]= a_[0,i]^j\n",
    "    L=zero_matrix(F,n1,deg_L+1)\n",
    "    for i in range(n1):\n",
    "        for j in range(deg_L+1):\n",
    "            L[i,j] = y_new[0,i]*a_[0,i]^j\n",
    "    M = N.augment(-1*L)\n",
    "    sol = M.right_kernel().random_element()\n",
    "    N_coefs = sol[0:deg_N+1]\n",
    "    L_coefs = sol[deg_N+1:]\n",
    "    R.<x> = F[]\n",
    "    N = sum([N_coefs[i] * x^i for i in range(deg_N+1)])\n",
    "    L = sum([L_coefs[i] * x^i for i in range(deg_L+1)])\n",
    "    if(L.is_zero()):\n",
    "        return zero_matrix(F,1,k)\n",
    "    U = N//L\n",
    "    m_ = vector(F,U.list())\n",
    "    return m_"
   ]
  },
  {
   "cell_type": "code",
   "execution_count": 12,
   "metadata": {},
   "outputs": [],
   "source": [
    "def decryption(y, G, alpha, A, E, n, k ,l):\n",
    "    cols_ind = []\n",
    "    zero_col = zero_matrix(F,l,1)\n",
    "    for i in range(n):\n",
    "        if E[:,i]!=zero_col:\n",
    "            cols_ind.append(i)\n",
    "    G_new = G[:,[i for i in range(n) if i not in cols_ind]]\n",
    "    y_new = y[:,[i for i in range(n) if i not in cols_ind]]\n",
    "    m_ = welsh_berlekamp(y_new, G_new, n, k, l)\n",
    "    message = zero_matrix(F, 1, k-l)\n",
    "    for i in range(k-l):\n",
    "        message[0,i] = m_[i]\n",
    "    origin_message = message-alpha*A\n",
    "    return origin_message"
   ]
  },
  {
   "cell_type": "code",
   "execution_count": 13,
   "metadata": {},
   "outputs": [],
   "source": [
    "def square(G):\n",
    "    N = G.nrows()\n",
    "    res = zero_matrix(F, N*(N-1)//2 + N, G.ncols())\n",
    "    r = 0\n",
    "    for i in range(N):\n",
    "        for j in range(i, N):\n",
    "            res[r] = G[i].pairwise_product(G[j])\n",
    "            r += 1\n",
    "    return res"
   ]
  },
  {
   "cell_type": "code",
   "execution_count": 14,
   "metadata": {},
   "outputs": [],
   "source": [
    "def attack(y, G, alpha, E_pub, A, n, k, l):\n",
    "    cols_ind = []\n",
    "    G_ = block_matrix([[G],[E_pub]])\n",
    "    for j in range (n):\n",
    "        if(square(G_[:,  [i for i in range(n) if i != j]]).rank() != square(G_).rank()):\n",
    "            cols_ind.append(j)\n",
    "    G_new = G[:,[i for i in range(n) if i not in cols_ind]]\n",
    "    y_new = y[:,[i for i in range(n) if i not in cols_ind]]\n",
    "    m_ = decode(y_new, G_new, n, k, l)\n",
    "    message = zero_matrix(F, 1, k-l)\n",
    "    for i in range(k-l):\n",
    "        message[0,i] = m_[i]\n",
    "    origin_message = message-alpha*A\n",
    "    return origin_message"
   ]
  },
  {
   "cell_type": "code",
   "execution_count": 15,
   "metadata": {},
   "outputs": [
    {
     "data": {
      "text/plain": [
       "[ 1  1  1  1  1  1  1  1  1  1  1  1  1  1  1  1  1]\n",
       "[15  5 16  0 13  4  3 10  7  2  6 14  1 12 11  8  9]\n",
       "[ 4  8  1  0 16 16  9 15 15  4  2  9  1  8  2 13 13]\n",
       "[ 9  6 16  0  4 13 10 14  3  8 12  7  1 11  5  2 15]\n",
       "[16 13  1  0  1  1 13  4  4 16  4 13  1 13  4 16 16]\n",
       "[ 2 14 16  0 13  4  5  6 11 15  7 12  1  3 10  9  8]"
      ]
     },
     "execution_count": 15,
     "metadata": {},
     "output_type": "execute_result"
    }
   ],
   "source": [
    "F = GF(17)\n",
    "n = 17\n",
    "k = 6\n",
    "l = 2\n",
    "W = 4\n",
    "w = 3\n",
    "elements = list(F)\n",
    "ksi = vector(F, random.sample(elements, n)) # Носитель RS-кода\n",
    "G = zero_matrix(F,k,n)\n",
    "for i in range(k):\n",
    "    for j in range(n):\n",
    "        G[i,j] = ksi[j]^i\n",
    "G # Порождающая матрица"
   ]
  },
  {
   "cell_type": "code",
   "execution_count": 16,
   "metadata": {},
   "outputs": [
    {
     "data": {
      "text/plain": [
       "[ 5  2 15  9  3  6  8  0  9 16 13  2  5 11 13  6 10]\n",
       "[16  1 16  5  3 12  4  6 10  1  8 13  8  3 13  2  3]"
      ]
     },
     "execution_count": 16,
     "metadata": {},
     "output_type": "execute_result"
    }
   ],
   "source": [
    "E_pub, A, E = make_key_pub(G,F,n,k,l)\n",
    "E_pub # Публичный ключ"
   ]
  },
  {
   "cell_type": "code",
   "execution_count": 17,
   "metadata": {},
   "outputs": [
    {
     "data": {
      "text/plain": [
       "[ 0  0  0  0  1  5  0  0  0  5  0  0  0  3  0  0  0]\n",
       "[ 0  0  0  0  7 12  0  0  0  2  0  0  0  1  0  0  0]"
      ]
     },
     "execution_count": 17,
     "metadata": {},
     "output_type": "execute_result"
    }
   ],
   "source": [
    "E # Матрица большой ошибки"
   ]
  },
  {
   "cell_type": "code",
   "execution_count": 19,
   "metadata": {},
   "outputs": [
    {
     "data": {
      "text/plain": [
       "[12 11  1  5  0  0]"
      ]
     },
     "execution_count": 19,
     "metadata": {},
     "output_type": "execute_result"
    }
   ],
   "source": [
    "m = zero_matrix(F,1,k)\n",
    "for i in range(k-l):\n",
    "    m[0,i] = F.random_element()\n",
    "m # исходное сообщение длины k + l нулей"
   ]
  },
  {
   "cell_type": "code",
   "execution_count": 20,
   "metadata": {},
   "outputs": [
    {
     "data": {
      "text/plain": [
       "[ 3  9  9  5 13  3  9  3 10  7 10 12 10  2 12  5  8]"
      ]
     },
     "execution_count": 20,
     "metadata": {},
     "output_type": "execute_result"
    }
   ],
   "source": [
    "y, alpha = encryption(m,G,E_pub,n,l)\n",
    "y # шифртекст и значения l элементов, которые были подставлены в конец сообщения m"
   ]
  },
  {
   "cell_type": "code",
   "execution_count": 185,
   "metadata": {},
   "outputs": [
    {
     "data": {
      "text/plain": [
       "([15 16  5  7], [15 16  5  7])"
      ]
     },
     "execution_count": 185,
     "metadata": {},
     "output_type": "execute_result"
    }
   ],
   "source": [
    "message = decryption(y, G, alpha, A, E, n, k ,l)\n",
    "message, m[:, :k-l] # успешное декодирование легального пользователя"
   ]
  },
  {
   "cell_type": "code",
   "execution_count": 218,
   "metadata": {},
   "outputs": [
    {
     "data": {
      "text/plain": [
       "([15 16  5  7], [15 16  5  7])"
      ]
     },
     "execution_count": 218,
     "metadata": {},
     "output_type": "execute_result"
    }
   ],
   "source": [
    "message = attack(y,G,alpha,E_pub,A,n,k,l)\n",
    "message, m[0, :k-l] # Успешно восстановленное сообщение после атаки"
   ]
  }
 ],
 "metadata": {
  "kernelspec": {
   "display_name": "SageMath 9.3",
   "language": "sage",
   "name": "sagemath"
  },
  "language_info": {
   "codemirror_mode": {
    "name": "ipython",
    "version": 3
   },
   "file_extension": ".py",
   "mimetype": "text/x-python",
   "name": "python",
   "nbconvert_exporter": "python",
   "pygments_lexer": "ipython3",
   "version": "3.7.10"
  }
 },
 "nbformat": 4,
 "nbformat_minor": 4
}
