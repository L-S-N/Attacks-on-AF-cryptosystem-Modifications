{
 "cells": [
  {
   "cell_type": "code",
   "execution_count": 155,
   "metadata": {},
   "outputs": [],
   "source": [
    "# Метод квадратов Шура-Адамара\n",
    "def square(G):\n",
    "    N = G.nrows()\n",
    "    res = zero_matrix(F, N*(N-1)//2 + N, G.ncols())\n",
    "    r = 0\n",
    "    for i in range(N):\n",
    "        for j in range(i, N):\n",
    "            res[r] = G[i].pairwise_product(G[j])\n",
    "            r += 1\n",
    "    return res"
   ]
  },
  {
   "cell_type": "code",
   "execution_count": 156,
   "metadata": {},
   "outputs": [],
   "source": [
    "# Матрица прозведений cтроки z на все строки матрицы G\n",
    "def test(z,G):\n",
    "    return matrix([row.pairwise_product(z) for row in G])"
   ]
  },
  {
   "cell_type": "code",
   "execution_count": 199,
   "metadata": {},
   "outputs": [],
   "source": [
    "def make_key_pub(G,F,n,k,l):   \n",
    "    import random\n",
    "    gamma = random_matrix(F, 1, l)\n",
    "    beta = random_matrix(F, 1, n)\n",
    "    y = gamma.T*beta\n",
    "    A = random_matrix(F, l, l)\n",
    "    E = zero_matrix(F, l, n)\n",
    "    d = vector(F, n) \n",
    "    for i in range(W):\n",
    "        ind = random.randint(0, n - 1)\n",
    "        d[ind] = 1\n",
    "    for i in range(l):\n",
    "        for j in range(n):\n",
    "            if d[j] == 1:\n",
    "                E[i, j] = F.random_element()\n",
    "    print(E)\n",
    "    A = random_matrix(F,l)\n",
    "    E_pub = A*G[k-l:k]+E+y\n",
    "    return E_pub, y, A"
   ]
  },
  {
   "cell_type": "code",
   "execution_count": 165,
   "metadata": {},
   "outputs": [],
   "source": [
    "def encryption(E_pub, m, G):\n",
    "    e = zero_matrix(F,1,n)\n",
    "    for i in range(w):\n",
    "        ind = random.randint(0,n-1)\n",
    "        e[0,ind] = 1\n",
    "    print(e)\n",
    "    alpha = random_matrix(F,1,l)\n",
    "    y = m*G + alpha*E_pub + e\n",
    "    return y, alpha\n",
    "    "
   ]
  },
  {
   "cell_type": "code",
   "execution_count": 166,
   "metadata": {},
   "outputs": [],
   "source": [
    "def welsh_berlekamp(y_new,G_new):\n",
    "    n1 = G_new.ncols()\n",
    "    k1 = G_new.nrows()\n",
    "    d = n1 - k1 + 1\n",
    "    deg_N = k1 - 1 + (d-1) // 2\n",
    "    deg_L = (d-1) // 2\n",
    "    a_ = matrix(F, 1, n1)    # новый вектор a', в котором элементы совпадают со второй строчкой матрицы G'\n",
    "    for i in range(n1):\n",
    "        a_[0,i] = G_new[1,i]\n",
    "    N = zero_matrix(F, n1, deg_N+1)                \n",
    "    for i in range(n1):\n",
    "        for j in range(deg_N+1):\n",
    "            N[i,j]= a_[0,i]^j\n",
    "    L=zero_matrix(F,n1,deg_L+1)\n",
    "    for i in range(n1):\n",
    "        for j in range(deg_L+1):\n",
    "            L[i,j] = y_new[0,i]*a_[0,i]^j\n",
    "    M = N.augment(-1*L)\n",
    "    sol = M.right_kernel().random_element()\n",
    "    N_coefs = sol[0:deg_N+1]\n",
    "    L_coefs = sol[deg_N+1:]\n",
    "    R.<x> = F[]\n",
    "    N = sum([N_coefs[i] * x^i for i in range(deg_N+1)])\n",
    "    L = sum([L_coefs[i] * x^i for i in range(deg_L+1)])\n",
    "    if(L.is_zero()):\n",
    "        return zero_matrix(F,1,k)\n",
    "    U = N//L\n",
    "    m_ = vector(F,U.list())\n",
    "    return m_"
   ]
  },
  {
   "cell_type": "code",
   "execution_count": 167,
   "metadata": {},
   "outputs": [],
   "source": [
    "def decode(y, G, E_pub, G_pub, alpha, y_rows):\n",
    "    G_ = G_pub.stack(E_pub)\n",
    "    ind_col = []\n",
    "    rang_ = square(G_)\n",
    "    for j in range (n):\n",
    "        if(square(G_[:,  [i for i in range(n) if i != j]]).rank() != square(G_).rank()):\n",
    "            ind_col.append(j)\n",
    "    G_new = G[:, [i for i in range(n) if i not in ind_col]]\n",
    "    G_pub_new = G_new[k-l:l]\n",
    "    y_new = y[:, [i for i in range(n) if i not in ind_col]]\n",
    "    y_rows = y_rows[:, [i for i in range(n) if i not in ind_col]]\n",
    "    y_new = y_new - alpha*y_rows\n",
    "    m_ = welsh_berlekamp(y_new, G_new)\n",
    "    return(m_)"
   ]
  },
  {
   "cell_type": "code",
   "execution_count": 168,
   "metadata": {},
   "outputs": [],
   "source": [
    "def attack(y,E_pub, G_pub, F, n, k, l):\n",
    "    G_ = G_pub.stack(E_pub)\n",
    "    ind_col = []\n",
    "    rang_ = square(G_)\n",
    "    for j in range (n):\n",
    "        if(square(G_[:,  [i for i in range(n) if i != j]]).rank() != square(G_).rank()):\n",
    "            ind_col.append(j)\n",
    "    G1 = G_[:,  [i for i in range(n) if i not in ind_col]]\n",
    "    G2 = G_pub[:,  [i for i in range(n) if i not in ind_col]]\n",
    "    G3 = E_pub[:,  [i for i in range(n) if i not in ind_col]]\n",
    "    z1 = random_vector(F, k-l)*G2\n",
    "    z2 = random_vector(F, k-l)*G2\n",
    "    lst = []\n",
    "    for i in range(1000):\n",
    "        z3 = random_vector(F, l)*G3\n",
    "        p = test(z1,G1).stack(test(z2,G1).stack(test(z3,G1))).rank()\n",
    "        if(p<=2*k-1+W):\n",
    "            lst.append(z3)\n",
    "    M = matrix(lst)\n",
    "    G_new = G2.stack(M)\n",
    "    for row in G3:\n",
    "        G4 = G_new.stack(row)\n",
    "        if G4.rank() == G_new.rank() + 1:\n",
    "            break\n",
    "    y_new = y[:,  [i for i in range(n) if i not in ind_col]]\n",
    "    return G4, y_new, row, ind_col "
   ]
  },
  {
   "cell_type": "code",
   "execution_count": 189,
   "metadata": {},
   "outputs": [
    {
     "data": {
      "text/plain": [
       "[ 1  1  1  1  1  1  1  1  1  1  1  1  1  1  1  1  1  1  1  1  1  1  1  1  1  1  1  1  1  1  1]\n",
       "[14  1 28  6 25  3 10 29  8  0  4 12  2 26 22  9 18 16 21 19 27 17 23 20  5 15 24 13  7 30 11]\n",
       "[10  1  9  5  5  9  7  4  2  0 16 20  4 25 19 19 14  8  7 20 16 10  2 28 25  8 18 14 18  1 28]\n",
       "[16  1  4 30  1 27  8 23 16  0  2 23  8 30 15 16  4  4 23  8 29 15 15  2  1 27 29 27  2 30 29]\n",
       "[ 7  1 19 25 25 19 18 16  4  0  8 28 16  5 20 20 10  2 18 28  8  7  4  9  5  2 14 10 14  1  9]\n",
       "[ 5  1  5 26  5 26 25 30  1  0  1 26  1  6  6 25 25  1  6  5 30 26 30 25 25 30 26  6  5 30  6]\n",
       "[ 8  1 16  1  1 16  2  2  8  0  4  2  2  1  8  8 16 16  2  2  4  8  8  4  1 16  4 16  4  1  4]"
      ]
     },
     "execution_count": 189,
     "metadata": {},
     "output_type": "execute_result"
    }
   ],
   "source": [
    "F = GF(31)\n",
    "n = 31\n",
    "k = 7\n",
    "l = 3\n",
    "W = 4\n",
    "w = 5\n",
    "import random\n",
    "elements = list(F)\n",
    "ksi = vector(F, random.sample(elements, n)) # Носитель RS-кода\n",
    "G = zero_matrix(F,k,n)\n",
    "for i in range(k):\n",
    "    for j in range(n):\n",
    "        G[i,j] = ksi[j]^i\n",
    "G # Порождающая матрица"
   ]
  },
  {
   "cell_type": "code",
   "execution_count": 190,
   "metadata": {},
   "outputs": [
    {
     "name": "stdout",
     "output_type": "stream",
     "text": [
      "[16 22  0  6  0  0  0  0  0  0  0  0  0  0  0  0  0  0  0  0  0  0  0  0  0  0  0  0  0  0  0]\n",
      "[22 16  5 12  0  0  0  0  0  0  0  0  0  0  0  0  0  0  0  0  0  0  0  0  0  0  0  0  0  0  0]\n",
      "[ 7 17 26  2  0  0  0  0  0  0  0  0  0  0  0  0  0  0  0  0  0  0  0  0  0  0  0  0  0  0  0]\n"
     ]
    },
    {
     "data": {
      "text/plain": [
       "[ 2 18 28 27 29  6 11  2 24  6 25  7  1 30  4 16  8  7 18 17 22 15 20  7 18  2 26 18 27  5 24]\n",
       "[ 2 23  1  0 17 12  9 14 19 25 24 30 10 21  5 23 12 14  3 26  1  7 28  1  1 24 28  3  2  3 16]\n",
       "[ 2  2  9 30  5 16 11 11  4  9 12 17 18  3  3  1  7 12 26 28 30 27  5 25 27 27 19 11  1 21 24]"
      ]
     },
     "execution_count": 190,
     "metadata": {},
     "output_type": "execute_result"
    }
   ],
   "source": [
    "E_pub, y_rows, A = make_key_pub(G,F,n,k,l)\n",
    "E_pub # Публичный ключ"
   ]
  },
  {
   "cell_type": "code",
   "execution_count": 191,
   "metadata": {},
   "outputs": [
    {
     "data": {
      "text/plain": [
       "[13 26  3  0  0  0  0]"
      ]
     },
     "execution_count": 191,
     "metadata": {},
     "output_type": "execute_result"
    }
   ],
   "source": [
    "m = random_matrix(F,1,k) # исходное сообщение \n",
    "\n",
    "m[0, 4:] = 0 # добавляем l нулей в конец сообщения\n",
    "m"
   ]
  },
  {
   "cell_type": "code",
   "execution_count": 192,
   "metadata": {},
   "outputs": [
    {
     "name": "stdout",
     "output_type": "stream",
     "text": [
      "[0 0 1 0 0 0 1 0 0 0 0 0 0 0 0 1 1 0 0 0 0 0 0 0 0 0 0 0 0 0 0]\n"
     ]
    },
    {
     "data": {
      "text/plain": [
       "([ 7 24  0 22 13 18 22  4 14 30 11 27 14 22  7  3 27 27  2 14 20 21 24 30 20 16 22 18 26  4  5],\n",
       " [ 1 13  3])"
      ]
     },
     "execution_count": 192,
     "metadata": {},
     "output_type": "execute_result"
    }
   ],
   "source": [
    "y,alpha = encryption(E_pub,m,G)\n",
    "y,alpha # шифртекст и значения l элементов, которые были подставлены в конец сообщения m"
   ]
  },
  {
   "cell_type": "code",
   "execution_count": 200,
   "metadata": {},
   "outputs": [
    {
     "data": {
      "text/plain": [
       "((13, 26, 3, 0), [13 26  3  0])"
      ]
     },
     "execution_count": 200,
     "metadata": {},
     "output_type": "execute_result"
    }
   ],
   "source": [
    "mes = decode(y, G, E_pub, G_pub, alpha, y_rows)\n",
    "mes[0:4], m[:, :k-l] # Успешное декодирование легального пользователя"
   ]
  },
  {
   "cell_type": "code",
   "execution_count": 194,
   "metadata": {},
   "outputs": [
    {
     "data": {
      "text/plain": [
       "(1005 x 27 dense matrix over Finite Field of size 31,\n",
       " [13 18 22  4 14 30 11 27 14 22  7  3 27 27  2 14 20 21 24 30 20 16 22 18 26  4  5],\n",
       " (5, 16, 11, 11, 4, 9, 12, 17, 18, 3, 3, 1, 7, 12, 26, 28, 30, 27, 5, 25, 27, 27, 19, 11, 1, 21, 24),\n",
       " [0, 1, 2, 3])"
      ]
     },
     "execution_count": 194,
     "metadata": {},
     "output_type": "execute_result"
    }
   ],
   "source": [
    "G_pub = G[:k-l]\n",
    "G4, y_new, row, ind_col = attack(y,E_pub,G_pub,F,n,k,l)\n",
    "G4, y_new, row, ind_col # найдены индексы (ind_col) зашумленых столбцов, а также зашумлёная строка (row) "
   ]
  },
  {
   "cell_type": "code",
   "execution_count": 195,
   "metadata": {},
   "outputs": [
    {
     "data": {
      "text/plain": [
       "[ 1  1  1  1  1  1  1  1  1  1  1  1  1  1  1  1  1  1  1  1  1  1  1  1  1  1  1]\n",
       "[25  3 10 29  8  0  4 12  2 26 22  9 18 16 21 19 27 17 23 20  5 15 24 13  7 30 11]\n",
       "[ 5  9  7  4  2  0 16 20  4 25 19 19 14  8  7 20 16 10  2 28 25  8 18 14 18  1 28]\n",
       "[ 1 27  8 23 16  0  2 23  8 30 15 16  4  4 23  8 29 15 15  2  1 27 29 27  2 30 29]\n",
       "[25 19 18 16  4  0  8 28 16  5 20 20 10  2 18 28  8  7  4  9  5  2 14 10 14  1  9]\n",
       "[ 5 26 25 30  1  0  1 26  1  6  6 25 25  1  6  5 30 26 30 25 25 30 26  6  5 30  6]\n",
       "[ 1 16  2  2  8  0  4  2  2  1  8  8 16 16  2  2  4  8  8  4  1 16  4 16  4  1  4]"
      ]
     },
     "execution_count": 195,
     "metadata": {},
     "output_type": "execute_result"
    }
   ],
   "source": [
    "G_1 = G[:,  [i for i in range(n) if i not in ind_col]]\n",
    "G_1 # Порождающая матрица с удалёнными зашумлёнными столбцами"
   ]
  },
  {
   "cell_type": "code",
   "execution_count": 196,
   "metadata": {},
   "outputs": [
    {
     "data": {
      "text/plain": [
       "([0 0 1 0 0 0 0 0 0 0 0 1 1 0 0 0 0 0 0 0 0 0 0 0 0 0 0],\n",
       " (7, 5, 14, 28, 3, 13, 9, 19, 11, 6, 22, 7, 30, 25, 8, 30, 15, 1, 18, 0, 0, 27, 24, 11, 0, 16, 1))"
      ]
     },
     "execution_count": 196,
     "metadata": {},
     "output_type": "execute_result"
    }
   ],
   "source": [
    "for i in F:\n",
    "    try:\n",
    "        row_ = matrix(F,[row])\n",
    "        m_ = welsh_berlekamp(y_new-i*row_,G_1)\n",
    "        c = m_*G_1\n",
    "        e_ = y_new - matrix(F,c) - i*row_\n",
    "        if(e_[0].hamming_weight() <= w):\n",
    "            break\n",
    "    except:\n",
    "        continue\n",
    "e_,c # нашли маленькую ошибку, по которой определили подходящее кодовое слово c"
   ]
  },
  {
   "cell_type": "code",
   "execution_count": 197,
   "metadata": {},
   "outputs": [],
   "source": [
    "c_ = zero_matrix(F,1,len(c))\n",
    "for i in range(len(c)):\n",
    "    c_[0,i] = c[i]"
   ]
  },
  {
   "cell_type": "code",
   "execution_count": 201,
   "metadata": {},
   "outputs": [
    {
     "data": {
      "text/plain": [
       "((13, 26, 3, 0), [13 26  3  0])"
      ]
     },
     "execution_count": 201,
     "metadata": {},
     "output_type": "execute_result"
    }
   ],
   "source": [
    "y_new = y_new - e_\n",
    "message = welsh_berlekamp(c_, G_1)\n",
    "message[0:4],m[:, :k-l]  # Нелегальный пользователь верно восстановил исходное сообщение"
   ]
  }
 ],
 "metadata": {
  "kernelspec": {
   "display_name": "SageMath 9.3",
   "language": "sage",
   "name": "sagemath"
  },
  "language_info": {
   "codemirror_mode": {
    "name": "ipython",
    "version": 3
   },
   "file_extension": ".py",
   "mimetype": "text/x-python",
   "name": "python",
   "nbconvert_exporter": "python",
   "pygments_lexer": "ipython3",
   "version": "3.7.10"
  }
 },
 "nbformat": 4,
 "nbformat_minor": 4
}
